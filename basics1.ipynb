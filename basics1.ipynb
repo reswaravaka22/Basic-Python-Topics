{
 "cells": [
  {
   "attachments": {},
   "cell_type": "markdown",
   "metadata": {},
   "source": [
    "# How to print a string in python?\n",
    "\n",
    "- We use the predefined function print to print any string in python.While writing code, we must abide by a set of rules aka 'SYNTAX'.\n",
    "~~~ python\n",
    "    print(\"Hi. I am Rajesh\")\n",
    "~~~\n",
    "- We can print more than one string by using comma.\n",
    "~~~ python\n",
    "    print(\"Hi\",\"How Are You?\")\n",
    "~~~\n",
    "- We have a option to separate multiple strings with a separator.\n",
    "~~~ python\n",
    "    print(\"Hi\",\"How are you?\",sep=\"...\")\n",
    "~~~\n",
    "- We can tell the machine , what to print at the end.\n",
    "~~~ python\n",
    "    print(\"Hi\",\"This is Rajesh\",end=\"...\")#default is linefeed.\n",
    "~~~\n",
    "- We can print the multiple lines at a time with our own order by using three-quotes.\n",
    "~~~ python\n",
    "    print(\"\"\"Python is an interpreted, object-oriented, high-level programming language with dynamic semantics. Its high-level built in data structures,\n",
    "     combined with dynamic typing and dynamic binding, make it very attractive for Rapid Application Development, as well as for use as a scripting or \n",
    "     glue language to connect existing components together. Python's simple, easy to learn syntax emphasizes readability and therefore reduces the cost of \n",
    "     program maintenance. Python supports modules and packages, which encourages program modularity and code reuse. The Python interpreter and the extensive \n",
    "     standard library are available in source or binary form without charge for all major platforms, and can be freely distributed.\"\"\")\n",
    "    print(\"\"\"Hello, \n",
    "    This is Rajesh Eswaravaka,\n",
    "    Python developer.\"\"\")"
   ]
  },
  {
   "attachments": {},
   "cell_type": "markdown",
   "metadata": {},
   "source": [
    "# Uses of backlash\n",
    "\n",
    "- We use backlash as tab character(\\t) and new line(\\n) character\n",
    "~~~ python\n",
    "    print(\"Hi\\nRajesh\")#new line will be created before printing Rajesh.\n",
    "    print(\"Hi\\tRajesh\")#tab space will be given before creating Rajesh.\n",
    "~~~\n",
    "- We can change the functionality of any character we can use backslash.\n",
    "~~~ python\n",
    "    print(\"Hello... I am Rajesh.I am a \\\"Data scientist\\\"\")#we can use single-quotes too to avoid error.(for the Datascientist)\n",
    "~~~\n",
    "- NOTE: Do not use backlash in f-string's inside braces{} as it wont work.\n"
   ]
  },
  {
   "attachments": {},
   "cell_type": "markdown",
   "metadata": {},
   "source": [
    "# Uses of Rawstring\n",
    "- Raw string treats the backlash as literal character.\n",
    "- Use of Rawstring with backlash is same as double backlash.\n",
    "~~~ python\n",
    "    print(r\"lang\\tver\\nPython\\t3\")\n",
    "    print(\"lang\\\\tver\\\\nPython\\\\t3\")\n",
    "    #Both gives same output.\n",
    "~~~\n",
    "- Rawstring counts backlash where as backlash doesnot counted in normal string."
   ]
  },
  {
   "attachments": {},
   "cell_type": "markdown",
   "metadata": {},
   "source": [
    "# Comments in python\n",
    "- we create comments in python for reference by using \"#\" before line.\n",
    "- it makes code readable.\n",
    "- for multi line comments there is no specific syntax, we use # before everyline.\n",
    "~~~ python\n",
    "    #it is a single line comment.\n",
    "    #it makes code more readable.\n",
    "~~~\n"
   ]
  }
 ],
 "metadata": {
  "kernelspec": {
   "display_name": "Python 3",
   "language": "python",
   "name": "python3"
  },
  "language_info": {
   "name": "python",
   "version": "3.10.7 (tags/v3.10.7:6cc6b13, Sep  5 2022, 14:08:36) [MSC v.1933 64 bit (AMD64)]"
  },
  "orig_nbformat": 4,
  "vscode": {
   "interpreter": {
    "hash": "7179a1c117cc635bafa4019959a000ed6439302801dff12411f6acc3f6834a68"
   }
  }
 },
 "nbformat": 4,
 "nbformat_minor": 2
}
