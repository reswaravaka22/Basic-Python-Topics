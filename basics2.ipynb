{
 "cells": [
  {
   "attachments": {},
   "cell_type": "markdown",
   "metadata": {},
   "source": [
    "# Variables\n",
    "- Variables are like containers. We store data in those variables.\n",
    "- We usually give names to those variables,it will help us to recall whenever required.\n",
    "- Memory will be allocated to a variable, whenever we do operations on variables , it effects the memory location.\n",
    "~~~ python\n",
    "    name=\"Rajesh Eswaravaka\" #name is a variable.\n",
    "    mobile_no=9999999999 #mobile_no is a variable.\n",
    "~~~\n",
    "- It is good practice in industry to use small case for a variable, not mandatory.\n",
    "- Python is dynamically typed language. which means, we need not to mention the type of data that we are going assign.\n",
    "~~~ python\n",
    "    a=\"rajesh\"#string type\n",
    "    a=1999#int type\n",
    "~~~\n",
    "- We can update the name variable as many times as needed.It gives back the latest values whenever called.\n",
    "- Python variables are case-sensitive.\n",
    "~~~ python\n",
    "    name=\"Rajesh\"\n",
    "    Name=\"Eswaravaka\"\n",
    "    print(name,Name)#both are different.Name do not overrite the name.\n",
    "~~~\n",
    "### Constraints in Variables Names\n",
    "- We cannot use reserved words as a Variables in our code.Interpreter gives back an error.\n",
    "~~~ python\n",
    "    a=\"Rajesh\"\n",
    "    and=\"is\"#it is not valid.\n",
    "    b=\"a developer\"\n",
    "~~~\n",
    "- We cannot use special characters for a variable except underscore\"_\".\n",
    "- Variables can only start with alphabets and underscore.\n",
    "- Variables can not start with numbers.\n",
    "- We should only use alphabets ,numbers and underscore while creating a variable.\n"
   ]
  },
  {
   "attachments": {},
   "cell_type": "markdown",
   "metadata": {},
   "source": [
    "# Type Casting\n",
    "- We can find the data type by using type() function.\n",
    "~~~ python\n",
    "    a=\"rajesh\"\n",
    "    b=2000\n",
    "    print(type(a))\n",
    "    print(type(b))\n",
    "~~~\n",
    "- Sometimes it is required to change or specify the data type.This can be done by typecasting.\n",
    "~~~ python\n",
    "    a=str(\"rajesh\")\n",
    "    b=100#it is b\n",
    "    c=str(b)# it is 'b'\n",
    "    d=float(b)# it is 'c'\n",
    "~~~\n"
   ]
  }
 ],
 "metadata": {
  "kernelspec": {
   "display_name": "Python 3",
   "language": "python",
   "name": "python3"
  },
  "language_info": {
   "name": "python",
   "version": "3.10.7 (tags/v3.10.7:6cc6b13, Sep  5 2022, 14:08:36) [MSC v.1933 64 bit (AMD64)]"
  },
  "orig_nbformat": 4,
  "vscode": {
   "interpreter": {
    "hash": "7179a1c117cc635bafa4019959a000ed6439302801dff12411f6acc3f6834a68"
   }
  }
 },
 "nbformat": 4,
 "nbformat_minor": 2
}
